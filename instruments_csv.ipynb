{
  "nbformat": 4,
  "nbformat_minor": 0,
  "metadata": {
    "colab": {
      "provenance": []
    },
    "kernelspec": {
      "name": "python3",
      "display_name": "Python 3"
    },
    "language_info": {
      "name": "python"
    }
  },
  "cells": [
    {
      "cell_type": "code",
      "execution_count": 1,
      "metadata": {
        "colab": {
          "base_uri": "https://localhost:8080/"
        },
        "id": "EhkhYs9rPcHa",
        "outputId": "ce3bfbb0-18f2-4a51-ff42-1c0c7d686ca0"
      },
      "outputs": [
        {
          "output_type": "stream",
          "name": "stdout",
          "text": [
            "          token               symbol       name     expiry   strike  lotsize  \\\n",
            "0         14415           PAGEIND-BL    PAGEIND                  -1        1   \n",
            "1         23121         1090NFL26-NB  1090NFL26                  -1        1   \n",
            "2         23099           738KL44-SG    738KL44                  -1      100   \n",
            "3         15082         RADIOCITY-P1  RADIOCITY                  -1        1   \n",
            "4         13896            77HP36-SG     77HP36                  -1      100   \n",
            "...         ...                  ...        ...        ...      ...      ...   \n",
            "110395   863475  CHOLAFIN24MAY1140CE   CHOLAFIN  30MAY2024   114000      625   \n",
            "110396   863369   IPCALAB24MAY1220CE    IPCALAB  30MAY2024   122000      650   \n",
            "110397   863604   COFORGE24MAY7300CE    COFORGE  30MAY2024   730000      150   \n",
            "110398  2279681     CIPLA24JUN1220CE      CIPLA  27JUN2024   122000      650   \n",
            "110399  1111058   BANKEX24JUL56400CE     BANKEX  29JUL2024  5640000       15   \n",
            "\n",
            "       instrumenttype exch_seg  tick_size  \n",
            "0                          NSE          5  \n",
            "1                          NSE          1  \n",
            "2                          NSE          1  \n",
            "3                          NSE          5  \n",
            "4                          NSE          1  \n",
            "...               ...      ...        ...  \n",
            "110395         OPTSTK      BFO          5  \n",
            "110396         OPTSTK      BFO          5  \n",
            "110397         OPTSTK      BFO          5  \n",
            "110398         OPTSTK      BFO          5  \n",
            "110399         OPTIDX      BFO          5  \n",
            "\n",
            "[110400 rows x 9 columns]\n"
          ]
        }
      ],
      "source": [
        "import pandas as pd\n",
        "df=pd.read_json(\"https://margincalculator.angelbroking.com/OpenAPI_File/files/OpenAPIScripMaster.json\")\n",
        "print(df)\n"
      ]
    }
  ]
}